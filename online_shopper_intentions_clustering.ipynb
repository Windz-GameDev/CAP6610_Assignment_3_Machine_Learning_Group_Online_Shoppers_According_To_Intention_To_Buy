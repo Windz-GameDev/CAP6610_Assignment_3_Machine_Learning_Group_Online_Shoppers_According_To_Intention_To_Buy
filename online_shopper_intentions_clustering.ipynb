{
 "cells": [
  {
   "cell_type": "markdown",
   "metadata": {},
   "source": [
    "Read CSV into the notebook and print a summary of the dataset, along with the first five rows to better understand the data structure."
   ]
  },
  {
   "cell_type": "code",
   "execution_count": 19,
   "metadata": {},
   "outputs": [
    {
     "name": "stdout",
     "output_type": "stream",
     "text": [
      "   Administrative  Administrative_Duration  Informational  \\\n",
      "0               0                      0.0              0   \n",
      "1               0                      0.0              0   \n",
      "2               0                      0.0              0   \n",
      "3               0                      0.0              0   \n",
      "4               0                      0.0              0   \n",
      "\n",
      "   Informational_Duration  ProductRelated  ProductRelated_Duration  \\\n",
      "0                     0.0               1                 0.000000   \n",
      "1                     0.0               2                64.000000   \n",
      "2                     0.0               1                 0.000000   \n",
      "3                     0.0               2                 2.666667   \n",
      "4                     0.0              10               627.500000   \n",
      "\n",
      "   BounceRates  ExitRates  PageValues  SpecialDay Month  OperatingSystems  \\\n",
      "0         0.20       0.20         0.0         0.0   Feb                 1   \n",
      "1         0.00       0.10         0.0         0.0   Feb                 2   \n",
      "2         0.20       0.20         0.0         0.0   Feb                 4   \n",
      "3         0.05       0.14         0.0         0.0   Feb                 3   \n",
      "4         0.02       0.05         0.0         0.0   Feb                 3   \n",
      "\n",
      "   Browser  Region  TrafficType        VisitorType  Weekend  Revenue  \n",
      "0        1       1            1  Returning_Visitor    False    False  \n",
      "1        2       1            2  Returning_Visitor    False    False  \n",
      "2        1       9            3  Returning_Visitor    False    False  \n",
      "3        2       2            4  Returning_Visitor    False    False  \n",
      "4        3       1            4  Returning_Visitor     True    False  \n",
      "<class 'pandas.core.frame.DataFrame'>\n",
      "RangeIndex: 12330 entries, 0 to 12329\n",
      "Data columns (total 18 columns):\n",
      " #   Column                   Non-Null Count  Dtype  \n",
      "---  ------                   --------------  -----  \n",
      " 0   Administrative           12330 non-null  int64  \n",
      " 1   Administrative_Duration  12330 non-null  float64\n",
      " 2   Informational            12330 non-null  int64  \n",
      " 3   Informational_Duration   12330 non-null  float64\n",
      " 4   ProductRelated           12330 non-null  int64  \n",
      " 5   ProductRelated_Duration  12330 non-null  float64\n",
      " 6   BounceRates              12330 non-null  float64\n",
      " 7   ExitRates                12330 non-null  float64\n",
      " 8   PageValues               12330 non-null  float64\n",
      " 9   SpecialDay               12330 non-null  float64\n",
      " 10  Month                    12330 non-null  object \n",
      " 11  OperatingSystems         12330 non-null  int64  \n",
      " 12  Browser                  12330 non-null  int64  \n",
      " 13  Region                   12330 non-null  int64  \n",
      " 14  TrafficType              12330 non-null  int64  \n",
      " 15  VisitorType              12330 non-null  object \n",
      " 16  Weekend                  12330 non-null  bool   \n",
      " 17  Revenue                  12330 non-null  bool   \n",
      "dtypes: bool(2), float64(7), int64(7), object(2)\n",
      "memory usage: 1.5+ MB\n",
      "None\n"
     ]
    }
   ],
   "source": [
    "import pandas as pd\n",
    "\n",
    "online_shopper_intentions_dataset = pd.read_csv('online_shoppers_intention.csv')\n",
    "\n",
    "# Look at first five rows of the data to get an understanding of it\n",
    "print(online_shopper_intentions_dataset.head())\n",
    "\n",
    "# Get a basic summary of the data\n",
    "print(online_shopper_intentions_dataset.info())"
   ]
  },
  {
   "cell_type": "markdown",
   "metadata": {},
   "source": [
    "Perform data preprocessing to get the data in a form in which K-means and Complete-Linkage Agglomerative nesting can be performed."
   ]
  },
  {
   "cell_type": "code",
   "execution_count": 20,
   "metadata": {},
   "outputs": [
    {
     "name": "stdout",
     "output_type": "stream",
     "text": [
      "{'Aug': 0.17551963048498845, 'Dec': 0.1250723798494499, 'Feb': 0.016304347826086956, 'Jul': 0.1527777777777778, 'June': 0.10069444444444445, 'Mar': 0.10068169900367069, 'May': 0.10850178359096314, 'Nov': 0.25350233488992663, 'Oct': 0.20947176684881602, 'Sep': 0.19196428571428573}\n",
      "{'New_Visitor': 0.24911452184179456, 'Other': 0.18823529411764706, 'Returning_Visitor': 0.1393232868922377}\n",
      "   Administrative  Administrative_Duration  Informational  \\\n",
      "0               0                      0.0              0   \n",
      "1               0                      0.0              0   \n",
      "2               0                      0.0              0   \n",
      "3               0                      0.0              0   \n",
      "4               0                      0.0              0   \n",
      "\n",
      "   Informational_Duration  ProductRelated  ProductRelated_Duration  \\\n",
      "0                     0.0               1                 0.000000   \n",
      "1                     0.0               2                64.000000   \n",
      "2                     0.0               1                 0.000000   \n",
      "3                     0.0               2                 2.666667   \n",
      "4                     0.0              10               627.500000   \n",
      "\n",
      "   BounceRates  ExitRates  PageValues  SpecialDay     Month  OperatingSystems  \\\n",
      "0         0.20       0.20         0.0         0.0  0.016304                 1   \n",
      "1         0.00       0.10         0.0         0.0  0.016304                 2   \n",
      "2         0.20       0.20         0.0         0.0  0.016304                 4   \n",
      "3         0.05       0.14         0.0         0.0  0.016304                 3   \n",
      "4         0.02       0.05         0.0         0.0  0.016304                 3   \n",
      "\n",
      "   Browser  Region  TrafficType  VisitorType  Weekend  Revenue  \n",
      "0        1       1            1     0.139323        0        0  \n",
      "1        2       1            2     0.139323        0        0  \n",
      "2        1       9            3     0.139323        0        0  \n",
      "3        2       2            4     0.139323        0        0  \n",
      "4        3       1            4     0.139323        1        0  \n",
      "<class 'pandas.core.frame.DataFrame'>\n",
      "RangeIndex: 12330 entries, 0 to 12329\n",
      "Data columns (total 18 columns):\n",
      " #   Column                   Non-Null Count  Dtype  \n",
      "---  ------                   --------------  -----  \n",
      " 0   Administrative           12330 non-null  int64  \n",
      " 1   Administrative_Duration  12330 non-null  float64\n",
      " 2   Informational            12330 non-null  int64  \n",
      " 3   Informational_Duration   12330 non-null  float64\n",
      " 4   ProductRelated           12330 non-null  int64  \n",
      " 5   ProductRelated_Duration  12330 non-null  float64\n",
      " 6   BounceRates              12330 non-null  float64\n",
      " 7   ExitRates                12330 non-null  float64\n",
      " 8   PageValues               12330 non-null  float64\n",
      " 9   SpecialDay               12330 non-null  float64\n",
      " 10  Month                    12330 non-null  float64\n",
      " 11  OperatingSystems         12330 non-null  int64  \n",
      " 12  Browser                  12330 non-null  int64  \n",
      " 13  Region                   12330 non-null  int64  \n",
      " 14  TrafficType              12330 non-null  int64  \n",
      " 15  VisitorType              12330 non-null  float64\n",
      " 16  Weekend                  12330 non-null  int64  \n",
      " 17  Revenue                  12330 non-null  int64  \n",
      "dtypes: float64(9), int64(9)\n",
      "memory usage: 1.7 MB\n",
      "None\n"
     ]
    }
   ],
   "source": [
    "# Reset preprocessed dataset to a copy of the original dataset everytime this code is run, this prevents prevents applying mean encoding more than once\n",
    "online_shopper_intentions_dataset_preprocessed = online_shopper_intentions_dataset.copy()\n",
    "\n",
    "# Convert weekend and revenue to store 1 and 0s for True and False respectively.\n",
    "online_shopper_intentions_dataset_preprocessed['Weekend'] = online_shopper_intentions_dataset_preprocessed['Weekend'].replace({True: 1, False: 0})\n",
    "\n",
    "online_shopper_intentions_dataset_preprocessed['Revenue'] = online_shopper_intentions_dataset_preprocessed['Revenue'].replace({True: 1, False: 0})\n",
    "\n",
    "# Perform mean encoding for Month and VisitorType\n",
    "# Calculate mean Revenue for each Month and store mapping in a dictionary\n",
    "month_to_mean_dictionary = online_shopper_intentions_dataset_preprocessed.groupby(['Month'])['Revenue'].mean().to_dict()\n",
    "\n",
    "# Ensure mapping matches expectations\n",
    "print(month_to_mean_dictionary)\n",
    "\n",
    "# Each month is replaced with its mean revenue using the month to mean dictionary mappping\n",
    "online_shopper_intentions_dataset_preprocessed['Month'] = online_shopper_intentions_dataset_preprocessed['Month'].replace(month_to_mean_dictionary)\n",
    "\n",
    "# Calculate mean revenue for each visitor type\n",
    "visitor_type_to_mean_dictionary = online_shopper_intentions_dataset_preprocessed.groupby(['VisitorType'])['Revenue'].mean().to_dict()\n",
    "\n",
    "# Ensure mapping matches expectations\n",
    "print(visitor_type_to_mean_dictionary)\n",
    "\n",
    "# Each visitor type is replaced with its mean revenue using the visitor type to mean dictionary\n",
    "online_shopper_intentions_dataset_preprocessed['VisitorType'] = online_shopper_intentions_dataset_preprocessed['VisitorType'].replace(visitor_type_to_mean_dictionary)\n",
    "\n",
    "# Verify changes were successful\n",
    "print(online_shopper_intentions_dataset_preprocessed.head()) \n",
    "print(online_shopper_intentions_dataset_preprocessed.info())  \n",
    "\n"
   ]
  },
  {
   "cell_type": "markdown",
   "metadata": {},
   "source": [
    "Create ground truth clusters and prepare data for training models"
   ]
  },
  {
   "cell_type": "code",
   "execution_count": 21,
   "metadata": {},
   "outputs": [
    {
     "name": "stdout",
     "output_type": "stream",
     "text": [
      "   Administrative  Administrative_Duration  Informational  \\\n",
      "0               0                      0.0              0   \n",
      "1               0                      0.0              0   \n",
      "2               0                      0.0              0   \n",
      "3               0                      0.0              0   \n",
      "4               0                      0.0              0   \n",
      "\n",
      "   Informational_Duration  ProductRelated  ProductRelated_Duration  \\\n",
      "0                     0.0               1                 0.000000   \n",
      "1                     0.0               2                64.000000   \n",
      "2                     0.0               1                 0.000000   \n",
      "3                     0.0               2                 2.666667   \n",
      "4                     0.0              10               627.500000   \n",
      "\n",
      "   BounceRates  ExitRates  PageValues  SpecialDay     Month  OperatingSystems  \\\n",
      "0         0.20       0.20         0.0         0.0  0.016304                 1   \n",
      "1         0.00       0.10         0.0         0.0  0.016304                 2   \n",
      "2         0.20       0.20         0.0         0.0  0.016304                 4   \n",
      "3         0.05       0.14         0.0         0.0  0.016304                 3   \n",
      "4         0.02       0.05         0.0         0.0  0.016304                 3   \n",
      "\n",
      "   Browser  Region  TrafficType  VisitorType  Weekend  \n",
      "0        1       1            1     0.139323        0  \n",
      "1        2       1            2     0.139323        0  \n",
      "2        1       9            3     0.139323        0  \n",
      "3        2       2            4     0.139323        0  \n",
      "4        3       1            4     0.139323        1  \n",
      "<class 'pandas.core.frame.DataFrame'>\n",
      "RangeIndex: 12330 entries, 0 to 12329\n",
      "Data columns (total 17 columns):\n",
      " #   Column                   Non-Null Count  Dtype  \n",
      "---  ------                   --------------  -----  \n",
      " 0   Administrative           12330 non-null  int64  \n",
      " 1   Administrative_Duration  12330 non-null  float64\n",
      " 2   Informational            12330 non-null  int64  \n",
      " 3   Informational_Duration   12330 non-null  float64\n",
      " 4   ProductRelated           12330 non-null  int64  \n",
      " 5   ProductRelated_Duration  12330 non-null  float64\n",
      " 6   BounceRates              12330 non-null  float64\n",
      " 7   ExitRates                12330 non-null  float64\n",
      " 8   PageValues               12330 non-null  float64\n",
      " 9   SpecialDay               12330 non-null  float64\n",
      " 10  Month                    12330 non-null  float64\n",
      " 11  OperatingSystems         12330 non-null  int64  \n",
      " 12  Browser                  12330 non-null  int64  \n",
      " 13  Region                   12330 non-null  int64  \n",
      " 14  TrafficType              12330 non-null  int64  \n",
      " 15  VisitorType              12330 non-null  float64\n",
      " 16  Weekend                  12330 non-null  int64  \n",
      "dtypes: float64(9), int64(8)\n",
      "memory usage: 1.6 MB\n",
      "None\n"
     ]
    }
   ],
   "source": [
    "# Extract the Revenue column to serve as our ground truth clusters, yes (1) or no (0) respectively.\n",
    "# Basically, did this shopper lead to a profit.\n",
    "ground_truth_cluster_labels = online_shopper_intentions_dataset_preprocessed['Revenue'].copy()\n",
    "\n",
    "# Drop the revenue column from our preprocessed dataset so we do not use it during clustering\n",
    "online_shopper_intentions_dataset_preprocessed_features = online_shopper_intentions_dataset_preprocessed.drop('Revenue', axis=1)\n",
    "\n",
    "# Verify changes were successful\n",
    "print(online_shopper_intentions_dataset_preprocessed_features.head()) \n",
    "print(online_shopper_intentions_dataset_preprocessed_features.info())  \n"
   ]
  },
  {
   "cell_type": "markdown",
   "metadata": {},
   "source": [
    "Train the K means model and predict clusters"
   ]
  },
  {
   "cell_type": "code",
   "execution_count": 22,
   "metadata": {},
   "outputs": [
    {
     "name": "stderr",
     "output_type": "stream",
     "text": [
      "c:\\Users\\Aaron\\anaconda3\\Lib\\site-packages\\sklearn\\cluster\\_kmeans.py:1412: FutureWarning: The default value of `n_init` will change from 10 to 'auto' in 1.4. Set the value of `n_init` explicitly to suppress the warning\n",
      "  super()._check_params_vs_input(X, default_n_init=10)\n"
     ]
    },
    {
     "name": "stdout",
     "output_type": "stream",
     "text": [
      "Clusters predicted by KMeans: \n",
      "[0 0 0 ... 0 0 0]\n",
      "{0, 1, 2, 3}\n"
     ]
    }
   ],
   "source": [
    "from sklearn.cluster import KMeans\n",
    "\n",
    "# Initialize a k means model with 4 clusters, rest of the parameters are left to sklearn defaults\n",
    "k_means_model = KMeans(n_clusters=4)\n",
    "\n",
    "# Fit the model to the dataset features and get the predicted clusters\n",
    "k_means_cluster_labels = k_means_model.fit_predict(online_shopper_intentions_dataset_preprocessed_features)\n",
    "\n",
    "print(f\"Clusters predicted by KMeans: \\n{k_means_cluster_labels}\")\n",
    "\n",
    "# Store unique cluster values\n",
    "kmeans_unique_clusters = set(k_means_cluster_labels)\n",
    "\n",
    "# Display the unique clusters\n",
    "print(kmeans_unique_clusters)"
   ]
  },
  {
   "cell_type": "markdown",
   "metadata": {},
   "source": [
    "Train the Complete Linkage Agglomerative Clustering model and predict clusters"
   ]
  },
  {
   "cell_type": "code",
   "execution_count": 23,
   "metadata": {},
   "outputs": [
    {
     "name": "stdout",
     "output_type": "stream",
     "text": [
      "Clusters predicted by Complete Linkage Agglomerative Clustering: \n",
      "[0 0 0 ... 0 0 0]\n",
      "{0, 1, 2, 3}\n"
     ]
    }
   ],
   "source": [
    "from sklearn.cluster import AgglomerativeClustering\n",
    "\n",
    "# Initialize an agglomerative clustering model using 4 clusters, and complete linkage criterion. \n",
    "complete_linkage_agglomerative_clustering_model = AgglomerativeClustering(n_clusters=4, linkage='complete')\n",
    "\n",
    "# Fit the model to the dataset features and get the predicted clusters\n",
    "complete_linkage_agglomerative_clustering_model_cluster_labels = complete_linkage_agglomerative_clustering_model.fit_predict(online_shopper_intentions_dataset_preprocessed_features)\n",
    "\n",
    "# Preview structure of the labels\n",
    "print(f\"Clusters predicted by Complete Linkage Agglomerative Clustering: \\n{complete_linkage_agglomerative_clustering_model_cluster_labels}\")\n",
    "\n",
    "# Store unique cluster values\n",
    "complete_linkage_agglomerative_clustering_unique_clusters = set(complete_linkage_agglomerative_clustering_model_cluster_labels)\n",
    "\n",
    "# Display the unique clusters\n",
    "print(complete_linkage_agglomerative_clustering_unique_clusters)\n"
   ]
  },
  {
   "cell_type": "markdown",
   "metadata": {},
   "source": [
    "Using the Rand Index metric, measure the performance of both KMeans and Complete Linkage Agglomerative Clustering by comparing their clusterings to the ground truth clustering given by Revenue."
   ]
  },
  {
   "cell_type": "code",
   "execution_count": 24,
   "metadata": {},
   "outputs": [
    {
     "name": "stdout",
     "output_type": "stream",
     "text": [
      "K Means Rand Index: 0.614881469829243\n",
      "Complete Linkage Agglomerative Clustering Rand Index: 0.7377097378266066\n"
     ]
    }
   ],
   "source": [
    "from sklearn.metrics import rand_score\n",
    "\n",
    "# Get the KMeans Rand Index\n",
    "k_means_model_r_index = rand_score(ground_truth_cluster_labels, k_means_cluster_labels)\n",
    "\n",
    "print(f\"K Means Rand Index: {k_means_model_r_index}\")\n",
    "\n",
    "# Get the Complete Linkage Agglomerative Clustering Rand index\n",
    "complete_linkage_agglomerative_clustering_model_r_index = rand_score(ground_truth_cluster_labels, complete_linkage_agglomerative_clustering_model_cluster_labels)\n",
    "\n",
    "print(f\"Complete Linkage Agglomerative Clustering Rand Index: {complete_linkage_agglomerative_clustering_model_r_index}\")"
   ]
  }
 ],
 "metadata": {
  "kernelspec": {
   "display_name": "python_robotics",
   "language": "python",
   "name": "python3"
  },
  "language_info": {
   "codemirror_mode": {
    "name": "ipython",
    "version": 3
   },
   "file_extension": ".py",
   "mimetype": "text/x-python",
   "name": "python",
   "nbconvert_exporter": "python",
   "pygments_lexer": "ipython3",
   "version": "3.11.5"
  }
 },
 "nbformat": 4,
 "nbformat_minor": 2
}
